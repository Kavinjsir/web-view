{
 "cells": [
  {
   "cell_type": "code",
   "execution_count": null,
   "id": "7b77ac49",
   "metadata": {},
   "outputs": [],
   "source": [
    "%env DATABASE=postgresql://metjin:<>@metcs688.postgres.database.azure.com:5432/postgres"
   ]
  },
  {
   "cell_type": "code",
   "execution_count": null,
   "id": "72fc5f97",
   "metadata": {},
   "outputs": [],
   "source": [
    "%env KEYWORD1=Covid-19"
   ]
  },
  {
   "cell_type": "code",
   "execution_count": null,
   "id": "20bdd5bc",
   "metadata": {},
   "outputs": [],
   "source": [
    "%env KEYWORD2=Vaccine"
   ]
  },
  {
   "cell_type": "code",
   "execution_count": null,
   "id": "a37b3b5b",
   "metadata": {},
   "outputs": [],
   "source": [
    "%env KEYWORD3=mRNA"
   ]
  },
  {
   "cell_type": "code",
   "execution_count": null,
   "id": "11a1d226",
   "metadata": {},
   "outputs": [],
   "source": [
    "%env KEYWORD4=Booster"
   ]
  },
  {
   "cell_type": "code",
   "execution_count": null,
   "id": "ff027fae",
   "metadata": {},
   "outputs": [],
   "source": [
    "from peewee import *\n",
    "from playhouse.db_url import connect\n",
    "\n",
    "import os"
   ]
  },
  {
   "cell_type": "code",
   "execution_count": null,
   "id": "6257af5b",
   "metadata": {},
   "outputs": [],
   "source": [
    "KEYWORD1 = os.environ['KEYWORD1']"
   ]
  },
  {
   "cell_type": "code",
   "execution_count": null,
   "id": "a0c21bd9",
   "metadata": {},
   "outputs": [],
   "source": [
    "KEYWORD2 = os.environ['KEYWORD2']"
   ]
  },
  {
   "cell_type": "code",
   "execution_count": null,
   "id": "26f5c220",
   "metadata": {},
   "outputs": [],
   "source": [
    "KEYWORD3 = os.environ['KEYWORD3']"
   ]
  },
  {
   "cell_type": "code",
   "execution_count": null,
   "id": "d0a055cc",
   "metadata": {},
   "outputs": [],
   "source": [
    "KEYWORD4 = os.environ['KEYWORD4']"
   ]
  },
  {
   "cell_type": "code",
   "execution_count": null,
   "id": "2dd456e7",
   "metadata": {},
   "outputs": [],
   "source": [
    "QUERY_STR = \"\"\"SELECT\n",
    "    date_trunc('month', date) m,\n",
    "    COUNT (id)\n",
    "FROM\n",
    "    dataset\n",
    "WHERE\n",
    "    keyword = %s\n",
    "GROUP BY\n",
    "    m\n",
    "ORDER BY\n",
    "    m;\"\"\"\n",
    "\n",
    "\n",
    "DB_URL = os.environ.get('DATABASE')\n",
    "\n",
    "db = connect(DB_URL)"
   ]
  },
  {
   "cell_type": "code",
   "execution_count": null,
   "id": "fa8f0b7d",
   "metadata": {},
   "outputs": [],
   "source": [
    "class BaseModel(Model):\n",
    "    class Meta:\n",
    "        database = db\n",
    "\n",
    "class Dataset(BaseModel):\n",
    "    date = DateField()\n",
    "    title = TextField()\n",
    "    abstract = TextField()\n",
    "    keyword = TextField()"
   ]
  },
  {
   "cell_type": "code",
   "execution_count": null,
   "id": "0af56ff6",
   "metadata": {},
   "outputs": [],
   "source": [
    "query1 = Dataset.raw(QUERY_STR, KEYWORD1)\n",
    "\n",
    "COUNT_DICT_1 = {}\n",
    "\n",
    "for item in query1:\n",
    "    COUNT_DICT_1[item.m] = item.count"
   ]
  },
  {
   "cell_type": "code",
   "execution_count": null,
   "id": "3268b86c",
   "metadata": {},
   "outputs": [],
   "source": [
    "query2 = Dataset.raw(QUERY_STR, KEYWORD2)\n",
    "\n",
    "COUNT_DICT_2 = {}\n",
    "\n",
    "for item in query2:\n",
    "    COUNT_DICT_2[item.m] = item.count"
   ]
  },
  {
   "cell_type": "code",
   "execution_count": null,
   "id": "2896d457",
   "metadata": {},
   "outputs": [],
   "source": [
    "query3 = Dataset.raw(QUERY_STR, KEYWORD3)\n",
    "\n",
    "COUNT_DICT_3 = {}\n",
    "\n",
    "for item in query3:\n",
    "    COUNT_DICT_3[item.m] = item.count"
   ]
  },
  {
   "cell_type": "code",
   "execution_count": null,
   "id": "92dced3b",
   "metadata": {},
   "outputs": [],
   "source": [
    "query4 = Dataset.raw(QUERY_STR, KEYWORD4)\n",
    "\n",
    "COUNT_DICT_4 = {}\n",
    "\n",
    "for item in query4:\n",
    "    COUNT_DICT_4[item.m] = item.count"
   ]
  },
  {
   "cell_type": "code",
   "execution_count": null,
   "id": "111934fb",
   "metadata": {},
   "outputs": [],
   "source": [
    "import seaborn as sns\n",
    "import matplotlib.pyplot as plt\n",
    "import datetime\n",
    "\n",
    "fig, ax = plt.subplots(figsize=(12, 6))\n",
    "fig.autofmt_xdate()\n",
    "ax.set_xlim([datetime.date(2017, 1, 1), datetime.date(2022, 3, 1)])\n",
    "\n",
    "sns.set(style=\"darkgrid\")\n",
    "\n",
    "# convert the dictionary to a list\n",
    "l_list_1 = [k for k, v in COUNT_DICT_1.items() for _ in range(v)]\n",
    "l_list_2 = [k for k, v in COUNT_DICT_2.items() for _ in range(v)]\n",
    "l_list_3 = [k for k, v in COUNT_DICT_3.items() for _ in range(v)]\n",
    "l_list_4 = [k for k, v in COUNT_DICT_4.items() for _ in range(v)]\n",
    " \n",
    "# plotting both distibutions on the same figure\n",
    "fig = sns.kdeplot(l_list_1, shade=True, color=\"r\", label=KEYWORD1)\n",
    "fig = sns.kdeplot(l_list_2, shade=True, color=\"b\", label=KEYWORD2)\n",
    "fig = sns.kdeplot(l_list_3, shade=True, color=\"g\", label=KEYWORD3)\n",
    "fig = sns.kdeplot(l_list_4, shade=True, color=\"y\", label=KEYWORD4)\n",
    "plt.legend()\n",
    "plt.show()"
   ]
  },
  {
   "cell_type": "code",
   "execution_count": null,
   "id": "7cf41373",
   "metadata": {},
   "outputs": [],
   "source": []
  }
 ],
 "metadata": {
  "kernelspec": {
   "display_name": "Python 3 (ipykernel)",
   "language": "python",
   "name": "python3"
  },
  "language_info": {
   "codemirror_mode": {
    "name": "ipython",
    "version": 3
   },
   "file_extension": ".py",
   "mimetype": "text/x-python",
   "name": "python",
   "nbconvert_exporter": "python",
   "pygments_lexer": "ipython3",
   "version": "3.8.12"
  }
 },
 "nbformat": 4,
 "nbformat_minor": 5
}
