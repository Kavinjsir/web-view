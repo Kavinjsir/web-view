{
 "cells": [
  {
   "cell_type": "code",
   "execution_count": 2,
   "id": "34a82b3e",
   "metadata": {},
   "outputs": [
    {
     "name": "stdout",
     "output_type": "stream",
     "text": [
      "env: KEYWORD=Obesity\n"
     ]
    }
   ],
   "source": [
    "%env KEYWORD=Obesity"
   ]
  },
  {
   "cell_type": "code",
   "execution_count": 3,
   "id": "69672766",
   "metadata": {},
   "outputs": [
    {
     "name": "stdout",
     "output_type": "stream",
     "text": [
      "env: KEYWORD2=Cancer\n"
     ]
    }
   ],
   "source": [
    "%env KEYWORD2=Cancer"
   ]
  },
  {
   "cell_type": "code",
   "execution_count": 4,
   "id": "e1442c5d",
   "metadata": {},
   "outputs": [],
   "source": [
    "from peewee import *\n",
    "from playhouse.db_url import connect\n",
    "\n",
    "import os"
   ]
  },
  {
   "cell_type": "code",
   "execution_count": 5,
   "id": "bc610921",
   "metadata": {},
   "outputs": [],
   "source": [
    "KEYWORD = os.environ['KEYWORD']\n",
    "KEYWORD2 = os.environ['KEYWORD2']"
   ]
  },
  {
   "cell_type": "code",
   "execution_count": 6,
   "id": "320203e2",
   "metadata": {},
   "outputs": [],
   "source": [
    "QUERY_STR = \"\"\"SELECT\n",
    "    date_trunc('year', date) y,\n",
    "    COUNT (id)\n",
    "FROM\n",
    "    dataset\n",
    "WHERE\n",
    "    keyword = %s AND date >= '2018-01-01' AND date < '2022-01-01'\n",
    "GROUP BY\n",
    "    y\n",
    "ORDER BY\n",
    "    y;\"\"\"\n",
    "\n",
    "\n",
    "DB_URL = os.environ.get('DATABASE')\n",
    "\n",
    "db = connect(DB_URL)"
   ]
  },
  {
   "cell_type": "code",
   "execution_count": 7,
   "id": "1d91b94c",
   "metadata": {},
   "outputs": [],
   "source": [
    "class BaseModel(Model):\n",
    "    class Meta:\n",
    "        database = db\n",
    "\n",
    "class Dataset(BaseModel):\n",
    "    date = DateField()\n",
    "    title = TextField()\n",
    "    abstract = TextField()\n",
    "    keyword = TextField()"
   ]
  },
  {
   "cell_type": "code",
   "execution_count": 8,
   "id": "ea7d9a9b",
   "metadata": {},
   "outputs": [],
   "source": [
    "query = Dataset.raw(QUERY_STR, KEYWORD)\n",
    "\n",
    "COUNT_DICT = {}\n",
    "\n",
    "for item in query:\n",
    "    COUNT_DICT[item.y] = item.count"
   ]
  },
  {
   "cell_type": "code",
   "execution_count": 9,
   "id": "24809228",
   "metadata": {},
   "outputs": [],
   "source": [
    "query2 = Dataset.raw(QUERY_STR, KEYWORD2)\n",
    "\n",
    "COUNT_DICT_2 = {}\n",
    "\n",
    "for item in query2:\n",
    "    COUNT_DICT_2[item.y] = item.count"
   ]
  },
  {
   "cell_type": "code",
   "execution_count": 10,
   "id": "347e6ed1",
   "metadata": {},
   "outputs": [],
   "source": [
    "data1 = list(COUNT_DICT.values())\n",
    "data2 = list(COUNT_DICT_2.values())"
   ]
  },
  {
   "cell_type": "code",
   "execution_count": 16,
   "id": "854aa35d",
   "metadata": {},
   "outputs": [
    {
     "data": {
      "text/plain": [
       "{datetime.datetime(2018, 1, 1, 0, 0, tzinfo=psycopg2.tz.FixedOffsetTimezone(offset=0, name=None)): 17488,\n",
       " datetime.datetime(2019, 1, 1, 0, 0, tzinfo=psycopg2.tz.FixedOffsetTimezone(offset=0, name=None)): 110114,\n",
       " datetime.datetime(2020, 1, 1, 0, 0, tzinfo=psycopg2.tz.FixedOffsetTimezone(offset=0, name=None)): 130725,\n",
       " datetime.datetime(2021, 1, 1, 0, 0, tzinfo=psycopg2.tz.FixedOffsetTimezone(offset=0, name=None)): 139984}"
      ]
     },
     "execution_count": 16,
     "metadata": {},
     "output_type": "execute_result"
    }
   ],
   "source": [
    "COUNT_DICT_2"
   ]
  },
  {
   "cell_type": "code",
   "execution_count": 11,
   "id": "49fc7306",
   "metadata": {},
   "outputs": [
    {
     "name": "stdout",
     "output_type": "stream",
     "text": [
      "stat=-2.9219796632174075, p=0.026562774980460422\n",
      "Probably different distributions\n"
     ]
    }
   ],
   "source": [
    "# Apply Parametric Test\n",
    "# Student's t-test\n",
    "from scipy.stats import ttest_ind\n",
    "\n",
    "stat, p = ttest_ind(data1, data2)\n",
    "print('stat={}, p={}'.format(stat, p))\n",
    "if p > 0.05:\n",
    "    print('Probably the same distribution')\n",
    "else:\n",
    "    print('Probably different distributions')"
   ]
  },
  {
   "cell_type": "code",
   "execution_count": 12,
   "id": "e05e494d",
   "metadata": {},
   "outputs": [
    {
     "name": "stdout",
     "output_type": "stream",
     "text": [
      "stat=3.0, p=0.2\n",
      "Probably the same distribution\n"
     ]
    }
   ],
   "source": [
    "# Apply Non-Parametric Test\n",
    "# Mann-Whitney U Test \n",
    "from scipy.stats import mannwhitneyu\n",
    "\n",
    "stat, p = mannwhitneyu(data1, data2)\n",
    "print('stat={}, p={}'.format(stat, p))\n",
    "if p > 0.05:\n",
    "    print('Probably the same distribution')\n",
    "else:\n",
    "    print('Probably different distributions')\n"
   ]
  },
  {
   "cell_type": "code",
   "execution_count": 13,
   "id": "fc5dc9b1",
   "metadata": {},
   "outputs": [
    {
     "name": "stdout",
     "output_type": "stream",
     "text": [
      "stat=2.083333333333332, p=0.14891467317876178\n",
      "Probably the same distribution\n"
     ]
    }
   ],
   "source": [
    "# Apply Non-Parametric Test\n",
    "# Kruskal-Wallis H Test\n",
    "from scipy.stats import kruskal\n",
    "\n",
    "stat, p = kruskal(data1, data2)\n",
    "print('stat={}, p={}'.format(stat, p))\n",
    "if p > 0.05:\n",
    "    print('Probably the same distribution')\n",
    "else:\n",
    "    print('Probably different distributions')"
   ]
  },
  {
   "cell_type": "code",
   "execution_count": 14,
   "id": "4b442d76",
   "metadata": {},
   "outputs": [
    {
     "name": "stdout",
     "output_type": "stream",
     "text": [
      "Cohens'd value: -2.0661516343502133, which shows a huge difference.\n"
     ]
    }
   ],
   "source": [
    "# Effect Size Test\n",
    "# Cohen's d\n",
    "from statistics import mean, stdev\n",
    "from math import sqrt\n",
    "\n",
    "cohens_d = (mean(data1) - mean(data2)) / (sqrt((stdev(data1) ** 2 + stdev(data2) ** 2) / 2))\n",
    "\n",
    "abs_cohens_d = abs(cohens_d)\n",
    "\n",
    "effect = \"huge\"\n",
    "if abs_cohens_d <= 0.01:\n",
    "    effect = \"very small\"\n",
    "elif abs_cohens_d < 0.2:\n",
    "    effect = \"small\"\n",
    "elif abs_cohens_d < 0.5:\n",
    "    effect = \"medium\"\n",
    "elif abs_cohens_d < 0.8:\n",
    "    effect = \"large\"\n",
    "elif abs_cohens_d < 1.2:\n",
    "    effect = \"very large\"\n",
    "\n",
    "print(\"Cohens'd value: {}, which shows a {} difference.\".format(cohens_d, effect))"
   ]
  },
  {
   "cell_type": "code",
   "execution_count": null,
   "id": "20bd57d8",
   "metadata": {},
   "outputs": [],
   "source": []
  }
 ],
 "metadata": {
  "kernelspec": {
   "display_name": "Python 3 (ipykernel)",
   "language": "python",
   "name": "python3"
  },
  "language_info": {
   "codemirror_mode": {
    "name": "ipython",
    "version": 3
   },
   "file_extension": ".py",
   "mimetype": "text/x-python",
   "name": "python",
   "nbconvert_exporter": "python",
   "pygments_lexer": "ipython3",
   "version": "3.8.12"
  }
 },
 "nbformat": 4,
 "nbformat_minor": 5
}
