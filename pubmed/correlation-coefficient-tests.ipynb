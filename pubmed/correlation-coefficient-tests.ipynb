{
 "cells": [
  {
   "cell_type": "code",
   "execution_count": 2,
   "id": "34a82b3e",
   "metadata": {},
   "outputs": [
    {
     "name": "stdout",
     "output_type": "stream",
     "text": [
      "env: KEYWORD=Obesity\n"
     ]
    }
   ],
   "source": [
    "%env KEYWORD=Obesity"
   ]
  },
  {
   "cell_type": "code",
   "execution_count": 3,
   "id": "69672766",
   "metadata": {},
   "outputs": [
    {
     "name": "stdout",
     "output_type": "stream",
     "text": [
      "env: KEYWORD2=Cancer\n"
     ]
    }
   ],
   "source": [
    "%env KEYWORD2=Cancer"
   ]
  },
  {
   "cell_type": "code",
   "execution_count": 4,
   "id": "e1442c5d",
   "metadata": {},
   "outputs": [],
   "source": [
    "from peewee import *\n",
    "from playhouse.db_url import connect\n",
    "\n",
    "import os"
   ]
  },
  {
   "cell_type": "code",
   "execution_count": 5,
   "id": "9cbb0c22",
   "metadata": {},
   "outputs": [],
   "source": [
    "KEYWORD = os.environ['KEYWORD']\n",
    "KEYWORD2 = os.environ['KEYWORD2']"
   ]
  },
  {
   "cell_type": "code",
   "execution_count": 6,
   "id": "320203e2",
   "metadata": {},
   "outputs": [],
   "source": [
    "QUERY_STR = \"\"\"SELECT\n",
    "    date_trunc('month', date) m,\n",
    "    COUNT (id)\n",
    "FROM\n",
    "    dataset\n",
    "WHERE\n",
    "    keyword = %s AND date >= '2018-01-01' AND date < '2022-02-01'\n",
    "GROUP BY\n",
    "    m\n",
    "ORDER BY\n",
    "    m;\"\"\"\n",
    "\n",
    "\n",
    "DB_URL = os.environ.get('DATABASE')\n",
    "\n",
    "db = connect(DB_URL)"
   ]
  },
  {
   "cell_type": "code",
   "execution_count": 7,
   "id": "1d91b94c",
   "metadata": {},
   "outputs": [],
   "source": [
    "class BaseModel(Model):\n",
    "    class Meta:\n",
    "        database = db\n",
    "\n",
    "class Dataset(BaseModel):\n",
    "    date = DateField()\n",
    "    title = TextField()\n",
    "    abstract = TextField()\n",
    "    keyword = TextField()"
   ]
  },
  {
   "cell_type": "code",
   "execution_count": 8,
   "id": "ea7d9a9b",
   "metadata": {},
   "outputs": [],
   "source": [
    "query = Dataset.raw(QUERY_STR, KEYWORD)\n",
    "\n",
    "COUNT_DICT = {}\n",
    "\n",
    "for item in query:\n",
    "    COUNT_DICT[item.m] = item.count"
   ]
  },
  {
   "cell_type": "code",
   "execution_count": 9,
   "id": "24809228",
   "metadata": {},
   "outputs": [],
   "source": [
    "query2 = Dataset.raw(QUERY_STR, KEYWORD2)\n",
    "\n",
    "COUNT_DICT_2 = {}\n",
    "\n",
    "for item in query2:\n",
    "    COUNT_DICT_2[item.m] = item.count"
   ]
  },
  {
   "cell_type": "code",
   "execution_count": 10,
   "id": "347e6ed1",
   "metadata": {},
   "outputs": [],
   "source": [
    "data1 = list(COUNT_DICT.values())\n",
    "data2 = list(COUNT_DICT_2.values())"
   ]
  },
  {
   "cell_type": "code",
   "execution_count": 11,
   "id": "1a90b1c3",
   "metadata": {},
   "outputs": [
    {
     "name": "stdout",
     "output_type": "stream",
     "text": [
      "stat=0.9980352638387541, p=3.320657038041375e-58\n",
      "Probably dependent\n"
     ]
    }
   ],
   "source": [
    "# Pearson's Correlation test\n",
    "from scipy.stats import pearsonr\n",
    "\n",
    "stat, p = pearsonr(data1, data2)\n",
    "print('stat={}, p={}'.format(stat, p))\n",
    "if p > 0.05:\n",
    "    print('Probably independent')\n",
    "else:\n",
    "    print('Probably dependent')"
   ]
  },
  {
   "cell_type": "code",
   "execution_count": 12,
   "id": "20bd57d8",
   "metadata": {},
   "outputs": [
    {
     "name": "stdout",
     "output_type": "stream",
     "text": [
      "stat=0.9873714854033443, p=2.8854190729953487e-39\n",
      "Probably dependent\n"
     ]
    }
   ],
   "source": [
    "# Spearman's Rank Correlation Test\n",
    "from scipy.stats import spearmanr\n",
    "\n",
    "stat, p = spearmanr(data1, data2)\n",
    "print('stat={}, p={}'.format(stat, p))\n",
    "if p > 0.05:\n",
    "    print('Probably independent')\n",
    "else:\n",
    "    print('Probably dependent')"
   ]
  },
  {
   "cell_type": "code",
   "execution_count": 13,
   "id": "902ed216",
   "metadata": {},
   "outputs": [
    {
     "name": "stdout",
     "output_type": "stream",
     "text": [
      "stat=0.9255009676420104, p=7.198091687839787e-21\n",
      "Probably dependent\n"
     ]
    }
   ],
   "source": [
    "# Kendall's  Correlation Test\n",
    "from scipy.stats import kendalltau\n",
    "\n",
    "stat, p = kendalltau(data1, data2)\n",
    "print('stat={}, p={}'.format(stat, p))\n",
    "if p > 0.05:\n",
    "    print('Probably independent')\n",
    "else:\n",
    "    print('Probably dependent')"
   ]
  },
  {
   "cell_type": "code",
   "execution_count": 14,
   "id": "ebe25812",
   "metadata": {},
   "outputs": [
    {
     "data": {
      "image/png": "[encoded data removed]",
      "text/plain": [
       "<Figure size 864x432 with 1 Axes>"
      ]
     },
     "metadata": {
      "needs_background": "light"
     },
     "output_type": "display_data"
    }
   ],
   "source": [
    "import seaborn as sns\n",
    "import matplotlib.pyplot as plt\n",
    "import datetime\n",
    "\n",
    "fig, ax = plt.subplots(figsize=(12, 6))\n",
    "fig.autofmt_xdate()\n",
    "ax.set_xlim([datetime.date(2017, 1, 1), datetime.date(2023, 1, 1)])\n",
    "\n",
    "sns.set(style=\"darkgrid\")\n",
    "\n",
    "# convert the dictionary to a list\n",
    "l_list_1 = [k for k, v in COUNT_DICT.items() for _ in range(v)]\n",
    "l_list_2 = [k for k, v in COUNT_DICT_2.items() for _ in range(v)]\n",
    "\n",
    " \n",
    "# plotting both distibutions on the same figure\n",
    "fig = sns.kdeplot(l_list_1, shade=True, color=\"r\", label=KEYWORD)\n",
    "fig = sns.kdeplot(l_list_2, shade=True, color=\"b\", label=KEYWORD2)\n",
    "plt.legend()\n",
    "plt.show()"
   ]
  },
  {
   "cell_type": "code",
   "execution_count": null,
   "id": "0654c4d5",
   "metadata": {},
   "outputs": [],
   "source": []
  }
 ],
 "metadata": {
  "kernelspec": {
   "display_name": "Python 3 (ipykernel)",
   "language": "python",
   "name": "python3"
  },
  "language_info": {
   "codemirror_mode": {
    "name": "ipython",
    "version": 3
   },
   "file_extension": ".py",
   "mimetype": "text/x-python",
   "name": "python",
   "nbconvert_exporter": "python",
   "pygments_lexer": "ipython3",
   "version": "3.8.12"
  }
 },
 "nbformat": 4,
 "nbformat_minor": 5
}
